{
  "cells": [
    {
      "cell_type": "markdown",
      "id": "bc849b83",
      "metadata": {
        "id": "bc849b83"
      },
      "source": [
        "# Model Evaluation for Text Generation\n",
        "\n",
        "Evaluating our final supervised fine-tuned model"
      ]
    },
    {
      "cell_type": "markdown",
      "id": "63317d4b",
      "metadata": {
        "id": "63317d4b"
      },
      "source": [
        "## Initializations"
      ]
    },
    {
      "cell_type": "code",
      "execution_count": 1,
      "id": "5e8efa6c",
      "metadata": {
        "colab": {
          "base_uri": "https://localhost:8080/"
        },
        "id": "5e8efa6c",
        "outputId": "7ecf6d5b-87db-48f7-d449-82a6566cd948"
      },
      "outputs": [
        {
          "output_type": "stream",
          "name": "stdout",
          "text": [
            "Mounted at /content/drive\n"
          ]
        }
      ],
      "source": [
        "import os\n",
        "import sys\n",
        "\n",
        "# Run this only for colab\n",
        "from google.colab import drive\n",
        "drive.mount(\"/content/drive\")"
      ]
    },
    {
      "cell_type": "code",
      "source": [
        "pip install evaluate"
      ],
      "metadata": {
        "id": "jGSwKWHs4_RB"
      },
      "id": "jGSwKWHs4_RB",
      "execution_count": null,
      "outputs": []
    },
    {
      "cell_type": "code",
      "source": [
        "pip install trl"
      ],
      "metadata": {
        "id": "mcbDgqqyDWff"
      },
      "id": "mcbDgqqyDWff",
      "execution_count": null,
      "outputs": []
    },
    {
      "cell_type": "code",
      "source": [
        "pip install torchmetrics"
      ],
      "metadata": {
        "id": "zS42CsZSFHwj"
      },
      "id": "zS42CsZSFHwj",
      "execution_count": null,
      "outputs": []
    },
    {
      "cell_type": "markdown",
      "source": [
        "Import the fine-tuned and reward model"
      ],
      "metadata": {
        "id": "O948TOxl1Mh1"
      },
      "id": "O948TOxl1Mh1"
    },
    {
      "cell_type": "code",
      "source": [
        "import torch\n",
        "import trl\n",
        "\n",
        "DEVICE = torch.device(\"cuda:0\" if torch.cuda.is_available() else \"cpu\")\n",
        "from generative_model import GenerativeModel"
      ],
      "metadata": {
        "id": "m65wxa2R7tQI"
      },
      "id": "m65wxa2R7tQI",
      "execution_count": 5,
      "outputs": []
    },
    {
      "cell_type": "code",
      "source": [
        "import trl\n",
        "from reward_model import *\n",
        "from generative_model import GenerativeModel\n",
        "from utils import *\n",
        "\n",
        "path = \"/content/drive/MyDrive/Model\"\n",
        "fine_tuned_model = GenerativeModel(path,DEVICE)"
      ],
      "metadata": {
        "id": "mjNb6kOYzCCa"
      },
      "id": "mjNb6kOYzCCa",
      "execution_count": 6,
      "outputs": []
    },
    {
      "cell_type": "code",
      "source": [
        "from transformers import AutoModelForSequenceClassification\n",
        "\n",
        "reward_model_path = \"/content/drive/MyDrive/-Reward_Model\"\n",
        "reward_model = AutoModelForSequenceClassification.from_pretrained(\n",
        "            reward_model_path).to(DEVICE)\n",
        "tokenizer = AutoTokenizer.from_pretrained(reward_model_path)"
      ],
      "metadata": {
        "id": "t6oYIOIiBqdc"
      },
      "id": "t6oYIOIiBqdc",
      "execution_count": 8,
      "outputs": []
    },
    {
      "cell_type": "code",
      "source": [
        "fine_tuned_model"
      ],
      "metadata": {
        "colab": {
          "base_uri": "https://localhost:8080/"
        },
        "id": "RiT9GVbSo9mM",
        "outputId": "b2765f19-2901-4547-ae9f-033b055e9d24"
      },
      "id": "RiT9GVbSo9mM",
      "execution_count": 56,
      "outputs": [
        {
          "output_type": "execute_result",
          "data": {
            "text/plain": [
              "<generative_model.GenerativeModel at 0x7f0ee156e770>"
            ]
          },
          "metadata": {},
          "execution_count": 56
        }
      ]
    },
    {
      "cell_type": "code",
      "source": [
        "reward_model"
      ],
      "metadata": {
        "colab": {
          "base_uri": "https://localhost:8080/"
        },
        "id": "v2sntgJkCj7r",
        "outputId": "fad3e244-fd5b-4948-b4e4-bc2290184cd9"
      },
      "id": "v2sntgJkCj7r",
      "execution_count": 9,
      "outputs": [
        {
          "output_type": "execute_result",
          "data": {
            "text/plain": [
              "DistilBertForSequenceClassification(\n",
              "  (distilbert): DistilBertModel(\n",
              "    (embeddings): Embeddings(\n",
              "      (word_embeddings): Embedding(30522, 768, padding_idx=0)\n",
              "      (position_embeddings): Embedding(512, 768)\n",
              "      (LayerNorm): LayerNorm((768,), eps=1e-12, elementwise_affine=True)\n",
              "      (dropout): Dropout(p=0.1, inplace=False)\n",
              "    )\n",
              "    (transformer): Transformer(\n",
              "      (layer): ModuleList(\n",
              "        (0-5): 6 x TransformerBlock(\n",
              "          (attention): MultiHeadSelfAttention(\n",
              "            (dropout): Dropout(p=0.1, inplace=False)\n",
              "            (q_lin): Linear(in_features=768, out_features=768, bias=True)\n",
              "            (k_lin): Linear(in_features=768, out_features=768, bias=True)\n",
              "            (v_lin): Linear(in_features=768, out_features=768, bias=True)\n",
              "            (out_lin): Linear(in_features=768, out_features=768, bias=True)\n",
              "          )\n",
              "          (sa_layer_norm): LayerNorm((768,), eps=1e-12, elementwise_affine=True)\n",
              "          (ffn): FFN(\n",
              "            (dropout): Dropout(p=0.1, inplace=False)\n",
              "            (lin1): Linear(in_features=768, out_features=3072, bias=True)\n",
              "            (lin2): Linear(in_features=3072, out_features=768, bias=True)\n",
              "            (activation): GELUActivation()\n",
              "          )\n",
              "          (output_layer_norm): LayerNorm((768,), eps=1e-12, elementwise_affine=True)\n",
              "        )\n",
              "      )\n",
              "    )\n",
              "  )\n",
              "  (pre_classifier): Linear(in_features=768, out_features=768, bias=True)\n",
              "  (classifier): Linear(in_features=768, out_features=2, bias=True)\n",
              "  (dropout): Dropout(p=0.2, inplace=False)\n",
              ")"
            ]
          },
          "metadata": {},
          "execution_count": 9
        }
      ]
    },
    {
      "cell_type": "code",
      "source": [
        "testing_dataset=get_supervised_data(\"/content/small_test.json\")"
      ],
      "metadata": {
        "id": "uQB8Lv5n4cWy"
      },
      "id": "uQB8Lv5n4cWy",
      "execution_count": 10,
      "outputs": []
    },
    {
      "cell_type": "code",
      "source": [
        "import torch.nn.functional as F\n",
        "\n",
        "\n",
        "def get_reward( demonstration):\n",
        "  \"\"\"\n",
        "  Returns a number in the range [-0.5,0.5] which corresponds\n",
        "  to the shifted probability of being positive.\n",
        "\n",
        "  Args:\n",
        "      demonstration: str\n",
        "  Return:\n",
        "      reward: Torch.Tensor\n",
        "  \"\"\"\n",
        "  max_input_length=500\n",
        "  rewards = []\n",
        "\n",
        "  encoded_text = tokenizer.encode_plus(\n",
        "      demonstration,\n",
        "      add_special_tokens=True,\n",
        "      return_tensors=\"pt\",\n",
        "      truncation=True,\n",
        "      max_length=max_input_length,\n",
        "      padding=\"max_length\",\n",
        "  ).to(DEVICE)\n",
        "\n",
        "\n",
        "  logits = reward_model(**encoded_text).logits\n",
        "\n",
        "  probs = F.softmax(logits,dim=1)[0][1] - 0.5\n",
        "\n",
        "  return probs*2"
      ],
      "metadata": {
        "id": "U3Wi-vNWHBoq"
      },
      "id": "U3Wi-vNWHBoq",
      "execution_count": 12,
      "outputs": []
    },
    {
      "cell_type": "code",
      "source": [
        "from torch.utils.data import Dataset,DataLoader\n",
        "from tqdm import tqdm\n",
        "import torch\n",
        "import numpy as np\n",
        "\n",
        "def evaluation(fine_tuned_model, reward_model, data):\n",
        "\n",
        "\n",
        "    eval_step = 0  # Counter for the number of evaluation steps\n",
        "    max_input_length=1024\n",
        "    #fine_tuned_model.zero_grad()\n",
        "    #fine_tuned_model.eval()  # Put the model in evaluation mode\n",
        "    average_reward = []\n",
        "\n",
        "    # Iterate through the validation dataset\n",
        "    for pair in tqdm(data, desc=\"Testing\"):\n",
        "      # Unpack the batch into input_ids, attention_mask, and token_type_ids\n",
        "      # input_ids, attention_mask, token_type_ids = batch\n",
        "      question, answer = pair\n",
        "      # Generate text based on the question\n",
        "      generated_text = fine_tuned_model.generate(question)\n",
        "\n",
        "      # Construct the complete dialogue string\n",
        "      text = 'Human: ' + question + '\\n\\n Assistant: ' + generated_text\n",
        "\n",
        "      # Get the reward for the generated text using the reward model\n",
        "      reward = get_reward(text).item()\n",
        "      print(reward)\n",
        "      # Append the reward to the list of average rewards\n",
        "      average_reward.append(reward)\n",
        "\n",
        "    return average_reward\n"
      ],
      "metadata": {
        "id": "uL-SP-YX1aq_"
      },
      "id": "uL-SP-YX1aq_",
      "execution_count": 35,
      "outputs": []
    },
    {
      "cell_type": "code",
      "source": [
        "#TESTING\n",
        "average_reward= evaluation(\n",
        "    fine_tuned_model,\n",
        "    reward_model,\n",
        "    testing_dataset,\n",
        ")\n",
        "testing_reward=average_reward"
      ],
      "metadata": {
        "id": "bSqBJeki2Tkd"
      },
      "id": "bSqBJeki2Tkd",
      "execution_count": null,
      "outputs": []
    },
    {
      "cell_type": "code",
      "source": [
        "testing_dataset_prompts=get_supervised_data(\"/content/prompts.json\")"
      ],
      "metadata": {
        "id": "M-sMncaVcrkC"
      },
      "id": "M-sMncaVcrkC",
      "execution_count": 36,
      "outputs": []
    },
    {
      "cell_type": "code",
      "source": [
        "#TESTING\n",
        "average_reward_prompts= evaluation(\n",
        "    fine_tuned_model,\n",
        "    reward_model,\n",
        "    testing_dataset_prompts\n",
        ")"
      ],
      "metadata": {
        "id": "7UL7M2VScrFv"
      },
      "id": "7UL7M2VScrFv",
      "execution_count": null,
      "outputs": []
    },
    {
      "cell_type": "code",
      "source": [
        "prompt_mean=np.mean(average_reward_prompts)\n",
        "prompt_mean"
      ],
      "metadata": {
        "colab": {
          "base_uri": "https://localhost:8080/"
        },
        "id": "AqKJHza7dD9u",
        "outputId": "ced90e7f-dfde-4b51-c852-e925f3b2b4a9"
      },
      "id": "AqKJHza7dD9u",
      "execution_count": 40,
      "outputs": [
        {
          "output_type": "execute_result",
          "data": {
            "text/plain": [
              "-0.04680428683757782"
            ]
          },
          "metadata": {},
          "execution_count": 40
        }
      ]
    },
    {
      "cell_type": "markdown",
      "source": [
        "VISUALIZE"
      ],
      "metadata": {
        "id": "XcCLq49RdaS3"
      },
      "id": "XcCLq49RdaS3"
    },
    {
      "cell_type": "code",
      "source": [
        "n, bins, patches = plt.hist(testing_reward, bins=10, edgecolor='black',alpha=0.5)\n",
        "plt.xlabel('Rewards')\n",
        "plt.ylabel('Frequency')\n",
        "plt.title('Prompts Histogram')\n",
        "\n",
        "# Calculate the midpoints of the bins\n",
        "bin_midpoints = 0.5 * (bins[1:] + bins[:-1])\n",
        "\n",
        "# Plotting the line graph\n",
        "plt.plot(bin_midpoints, n, color='red', linestyle='dashed', linewidth=2)\n",
        "\n",
        "plt.show()"
      ],
      "metadata": {
        "colab": {
          "base_uri": "https://localhost:8080/",
          "height": 472
        },
        "id": "ka6YseoRmf9l",
        "outputId": "b5fa9764-796d-45b2-f4fb-ddf34c70683d"
      },
      "id": "ka6YseoRmf9l",
      "execution_count": 55,
      "outputs": [
        {
          "output_type": "display_data",
          "data": {
            "text/plain": [
              "<Figure size 640x480 with 1 Axes>"
            ],
            "image/png": "[encoded data removed]"
          },
          "metadata": {}
        }
      ]
    },
    {
      "cell_type": "code",
      "source": [
        "import matplotlib.pyplot as plt\n",
        "\n",
        "n, bins, patches = plt.hist(average_reward_prompts, bins=10, edgecolor='black',alpha=0.5)\n",
        "plt.xlabel('Rewards')\n",
        "plt.ylabel('Frequency')\n",
        "plt.title('Test Dataset Histogram')\n",
        "\n",
        "# Calculate the midpoints of the bins\n",
        "bin_midpoints = 0.5 * (bins[1:] + bins[:-1])\n",
        "\n",
        "# Plotting the line graph\n",
        "plt.plot(bin_midpoints, n, color='red', linestyle='dashed', linewidth=2)\n",
        "\n",
        "plt.show()"
      ],
      "metadata": {
        "colab": {
          "base_uri": "https://localhost:8080/",
          "height": 472
        },
        "id": "lotwCx2Hl8mN",
        "outputId": "5317c133-7b6c-4638-841b-7100ece874ca"
      },
      "id": "lotwCx2Hl8mN",
      "execution_count": 54,
      "outputs": [
        {
          "output_type": "display_data",
          "data": {
            "text/plain": [
              "<Figure size 640x480 with 1 Axes>"
            ],
            "image/png": "[encoded data removed]"
          },
          "metadata": {}
        }
      ]
    }
  ],
  "metadata": {
    "kernelspec": {
      "display_name": "Python 3",
      "name": "python3"
    },
    "language_info": {
      "codemirror_mode": {
        "name": "ipython",
        "version": 3
      },
      "file_extension": ".py",
      "mimetype": "text/x-python",
      "name": "python",
      "nbconvert_exporter": "python",
      "pygments_lexer": "ipython3",
      "version": "3.9.12"
    },
    "colab": {
      "provenance": [],
      "gpuType": "T4"
    },
    "accelerator": "GPU"
  },
  "nbformat": 4,
  "nbformat_minor": 5
}