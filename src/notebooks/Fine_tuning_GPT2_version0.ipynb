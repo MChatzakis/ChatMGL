{
 "cells": [
  {
   "cell_type": "code",
   "execution_count": null,
   "id": "GyyL-qlIPwL0",
   "metadata": {
    "id": "GyyL-qlIPwL0"
   },
   "outputs": [],
   "source": [
    "pip install transformers"
   ]
  },
  {
   "cell_type": "code",
   "execution_count": null,
   "id": "Sg8NwHSYb2tM",
   "metadata": {
    "id": "Sg8NwHSYb2tM"
   },
   "outputs": [],
   "source": [
    "pip install evaluate"
   ]
  },
  {
   "cell_type": "code",
   "execution_count": null,
   "id": "38aea4df",
   "metadata": {
    "colab": {
     "base_uri": "https://localhost:8080/"
    },
    "id": "38aea4df",
    "outputId": "b0110c29-1f5b-4f86-e10b-631df4cd47e4"
   },
   "outputs": [
    {
     "data": {
      "text/plain": [
       "<torch._C.Generator at 0x7f21342c90f0>"
      ]
     },
     "execution_count": 45,
     "metadata": {},
     "output_type": "execute_result"
    }
   ],
   "source": [
    "import torch\n",
    "import json\n",
    "import os\n",
    "import random\n",
    "import sys\n",
    "from torch import nn\n",
    "import numpy as np\n",
    "from tqdm import tqdm\n",
    "from itertools import chain\n",
    "from torch.nn.utils.rnn import pad_sequence\n",
    "from torch.utils.data import Dataset,DataLoader\n",
    "from torch.utils.data import DataLoader, RandomSampler\n",
    "from utils import *\n",
    "from transformers import AdamW\n",
    "from transformers import get_constant_schedule_with_warmup\n",
    "\n",
    "from transformers import PreTrainedModel, PretrainedConfig\n",
    "from transformers import AutoTokenizer, Trainer, TrainingArguments\n",
    "from transformers import GPT2LMHeadModel, GPT2Tokenizer,GPT2Config\n",
    "\n",
    "SEED = 42\n",
    "DEVICE = torch.device(\"cuda:0\" if torch.cuda.is_available() else \"cpu\")\n",
    "\n",
    "random.seed(SEED)\n",
    "np.random.seed(SEED)\n",
    "torch.manual_seed(SEED)"
   ]
  },
  {
   "cell_type": "code",
   "execution_count": null,
   "id": "f1f3c794",
   "metadata": {
    "id": "f1f3c794"
   },
   "outputs": [],
   "source": [
    "%reload_ext autoreload\n",
    "%autoreload 2"
   ]
  },
  {
   "cell_type": "code",
   "execution_count": null,
   "id": "865a2b49",
   "metadata": {
    "id": "865a2b49"
   },
   "outputs": [],
   "source": [
    "DEVICE = torch.device(\"cuda:0\" if torch.cuda.is_available() else \"cpu\")"
   ]
  },
  {
   "cell_type": "markdown",
   "id": "2676a1a3",
   "metadata": {
    "id": "2676a1a3"
   },
   "source": [
    "##### Prompt and Labels less than max_length\n"
   ]
  },
  {
   "cell_type": "code",
   "execution_count": null,
   "id": "OkvVlpuLlyEm",
   "metadata": {
    "id": "OkvVlpuLlyEm"
   },
   "outputs": [],
   "source": [
    "filename = 'train.json'\n",
    "model_name='gpt2'\n",
    "tokenizer = AutoTokenizer.from_pretrained(model_name)\n",
    "pairs = get_supervised_data(filename)"
   ]
  },
  {
   "cell_type": "code",
   "execution_count": null,
   "id": "4e2d9e61",
   "metadata": {
    "colab": {
     "base_uri": "https://localhost:8080/"
    },
    "id": "4e2d9e61",
    "outputId": "d70a5cb3-e840-4560-bb65-65eb8871b4a7"
   },
   "outputs": [
    {
     "name": "stderr",
     "output_type": "stream",
     "text": [
      "Token indices sequence length is longer than the specified maximum sequence length for this model (5969 > 1024). Running this sequence through the model will result in indexing errors\n"
     ]
    }
   ],
   "source": [
    "# Calculate the percentage of prompts with a length less than 1024 tokens\n",
    "prompts_len = [len(tokenizer(pair[0])['input_ids']) for pair in pairs]\n",
    "percentage = sum(1 for len_ in prompts_len if len_ < 1024) / len(prompts_len)\n"
   ]
  },
  {
   "cell_type": "code",
   "execution_count": null,
   "id": "794cdb09",
   "metadata": {
    "colab": {
     "base_uri": "https://localhost:8080/"
    },
    "id": "794cdb09",
    "outputId": "b51b2b96-a828-40c1-ed2f-a2267e068fbd"
   },
   "outputs": [
    {
     "data": {
      "text/plain": [
       "0.9777435370655709"
      ]
     },
     "execution_count": 50,
     "metadata": {},
     "output_type": "execute_result"
    }
   ],
   "source": [
    "# Calculate the percentage of labels with a length less than 1024 tokens\n",
    "\n",
    "labels_len=[len(tokenizer(pair[1])['input_ids']) for pair in pairs]\n",
    "(sum(1 for len_ in labels_len if len_ < 1024) / len(labels_len))"
   ]
  },
  {
   "cell_type": "markdown",
   "id": "e39914c4",
   "metadata": {
    "id": "e39914c4"
   },
   "source": [
    "### Dataset"
   ]
  },
  {
   "cell_type": "code",
   "execution_count": null,
   "id": "f6a4f7e2",
   "metadata": {
    "id": "f6a4f7e2"
   },
   "outputs": [],
   "source": [
    "def replace_elements(input_ids, start_index):\n",
    "    num_elements = input_ids.size(0)\n",
    "    replace_values = torch.full((num_elements - start_index,), -100, dtype=torch.int32, device=input_ids.device)\n",
    "    input_ids[start_index:] = replace_values\n",
    "\n",
    "    return input_ids\n",
    "\n",
    "class Dataset_GPT2(Dataset):\n",
    "    def __init__(self, tokenizer, filename):\n",
    "        # Initialize the Dataset_Bart class\n",
    "        self.tokenizer   = tokenizer\n",
    "        self.input_ids   = []\n",
    "        self.attentions  = []\n",
    "        self.token_types = []\n",
    "        self.tokenizer.pad_token = self.tokenizer.eos_token\n",
    "\n",
    "        pairs = get_supervised_data(filename)\n",
    "        pairs = random.sample(pairs, int(len(pairs) * 0.1))  # take 20% of the final data (just for now)\n",
    "        max_input_length = 1024\n",
    "\n",
    "        # Process each pair of prompts and labels\n",
    "        for pair in pairs:\n",
    "            prompt, labels = pair[0], pair[1]  # question and answer\n",
    "\n",
    "            # Concatenate input with special tokens\n",
    "            input = self.tokenizer.bos_token + prompt + self.tokenizer.eos_token + self.tokenizer.eos_token + labels + self.tokenizer.eos_token\n",
    "\n",
    "            # Tokenize the whole input (question + answer)\n",
    "            input_encodings = self.tokenizer(\n",
    "                input,\n",
    "                max_length=max_input_length,\n",
    "                padding=\"max_length\",\n",
    "                truncation=True,\n",
    "                return_tensors=\"pt\"\n",
    "            ).to(DEVICE)\n",
    "\n",
    "            #in order the model to better understand the context and differentiate between the different parts of the input (question and answer)\n",
    "            flat_tensor = input_encodings['input_ids'].view(-1)\n",
    "            flat_tensor = torch.nonzero(flat_tensor == self.tokenizer.eos_token_id).flatten()\n",
    "            eos_index = flat_tensor[2].item() if len(flat_tensor) >= 3 else flat_tensor[-1].item()\n",
    "            token_type_ids =  np.ones(len(input_encodings['input_ids'][0]))\n",
    "            token_type_ids[:eos_index] = 0\n",
    "\n",
    "            # Replace the elements from last occurrence to the end with -100\n",
    "            if len(flat_tensor) >= 5:\n",
    "              input_encodings['input_ids'][0][flat_tensor[4] + 1:] = -100\n",
    "\n",
    "            # Store input_ids and attention masks for prompts\n",
    "            self.input_ids.append(input_encodings['input_ids'])\n",
    "            self.attentions.append(input_encodings[\"attention_mask\"][0])\n",
    "            self.token_types.append(token_type_ids)\n",
    "\n",
    "\n",
    "    def __len__(self):\n",
    "        # Return the length of the dataset\n",
    "        return len(self.input_ids)\n",
    "\n",
    "    def __getitem__(self, idx):\n",
    "        # Get the input_ids and attention mask for the given index\n",
    "        return (\n",
    "            self.input_ids[idx],\n",
    "            self.attentions[idx],\n",
    "            self.token_types[idx]\n",
    "        )\n",
    "\n"
   ]
  },
  {
   "cell_type": "code",
   "execution_count": null,
   "id": "e04069f9",
   "metadata": {
    "id": "e04069f9"
   },
   "outputs": [],
   "source": [
    "# Create instances of the Dataset_GPT2 class for training, validation, and testing datasets\n",
    "training_dataset = Dataset_GPT2(tokenizer, 'train.json')\n",
    "validation_dataset = Dataset_GPT2(tokenizer, 'val.json')\n",
    "testing_dataset = Dataset_GPT2(tokenizer  , 'test.json')"
   ]
  },
  {
   "cell_type": "code",
   "execution_count": null,
   "id": "1p2G6P2ZOIlM",
   "metadata": {
    "colab": {
     "base_uri": "https://localhost:8080/"
    },
    "id": "1p2G6P2ZOIlM",
    "outputId": "805dc74c-f71a-44f9-9a7c-7247378df1e0"
   },
   "outputs": [
    {
     "data": {
      "text/plain": [
       "(tensor([[50256,    34,   343,  ...,  -100,  -100,  -100]], device='cuda:0'),\n",
       " tensor([1, 1, 1,  ..., 0, 0, 0], device='cuda:0'),\n",
       " array([0., 0., 0., ..., 1., 1., 1.]))"
      ]
     },
     "execution_count": 9,
     "metadata": {},
     "output_type": "execute_result"
    }
   ],
   "source": [
    "validation_dataset[0]"
   ]
  },
  {
   "cell_type": "code",
   "execution_count": null,
   "id": "9KOTxGymKhMe",
   "metadata": {
    "colab": {
     "base_uri": "https://localhost:8080/"
    },
    "id": "9KOTxGymKhMe",
    "outputId": "95bcb450-27cf-4458-e018-5e93af875d94"
   },
   "outputs": [
    {
     "data": {
      "text/plain": [
       "(tensor([[50256,  1135,   869,  ...,  -100,  -100,  -100]], device='cuda:0'),\n",
       " tensor([1, 1, 1,  ..., 0, 0, 0], device='cuda:0'),\n",
       " array([0., 0., 0., ..., 1., 1., 1.]))"
      ]
     },
     "execution_count": 10,
     "metadata": {},
     "output_type": "execute_result"
    }
   ],
   "source": [
    "training_dataset[0]"
   ]
  },
  {
   "cell_type": "markdown",
   "id": "158e4575",
   "metadata": {
    "id": "158e4575"
   },
   "source": [
    "### Custom  model"
   ]
  },
  {
   "cell_type": "code",
   "execution_count": null,
   "id": "64fa456a",
   "metadata": {
    "id": "64fa456a"
   },
   "outputs": [],
   "source": [
    "from transformers import AutoTokenizer, GPT2Config\n",
    "\n",
    "class GPT2_Fine_Tuned_Model_Config(GPT2Config):\n",
    "    model_type = \"GPT2_Fine_Tuned_Model\"\n",
    "\n",
    "    def __init__(self, **kwargs):\n",
    "        super().__init__(**kwargs)\n",
    "\n",
    "class GPT2_Fine_Tuned_Model(GPT2LMHeadModel):\n",
    "    def __init__(self, config):\n",
    "        \"\"\"\n",
    "        GPT2-based fine-tuned model for a specific task.\n",
    "\n",
    "        Args:\n",
    "            config: The configuration object for the model.\n",
    "        \"\"\"\n",
    "        super().__init__(config)\n",
    "        self.config = config\n",
    "\n",
    "        # Load the base GPT2 model\n",
    "        model_name = \"gpt2\"\n",
    "        self.model = GPT2LMHeadModel.from_pretrained(model_name)\n",
    "\n",
    "        # Use the GPT2 tokenizer for encoding and decoding\n",
    "        self.tokenizer = GPT2Tokenizer.from_pretrained(model_name)\n",
    "\n",
    "    def forward(self, batch_input_ids, batch_attention_mask,batch_token_types):\n",
    "        \"\"\"\n",
    "        Perform a forward pass of the GPT2-based fine-tuned model.\n",
    "\n",
    "        Args:\n",
    "            batch_input_ids: The input IDs of the batch.\n",
    "            batch_attention_mask: The attention masks of the batch.\n",
    "\n",
    "        Returns:\n",
    "            The output of the model.\n",
    "        \"\"\"\n",
    "        #input_ids, attention_mask, token_type_ids = batch\n",
    "\n",
    "        batch_token_types = batch_token_types.to(torch.long).to(DEVICE)\n",
    "\n",
    "        outputs = self.model(\n",
    "             batch_input_ids,\n",
    "             labels=batch_input_ids,\n",
    "             attention_mask = batch_attention_mask,\n",
    "             token_type_ids=batch_token_types\n",
    "          )\n",
    "        return outputs\n",
    "\n"
   ]
  },
  {
   "cell_type": "markdown",
   "id": "N2WHS5d2ejoe",
   "metadata": {
    "id": "N2WHS5d2ejoe"
   },
   "source": [
    "## Training Loop"
   ]
  },
  {
   "cell_type": "code",
   "execution_count": null,
   "id": "b701c872",
   "metadata": {
    "id": "b701c872"
   },
   "outputs": [],
   "source": [
    "def train_fine_tuned_model_gpt(\n",
    "    model,\n",
    "    tokenizer,\n",
    "    training_dataset,\n",
    "    validation_dataset,\n",
    "    epochs,\n",
    "    learningRate,\n",
    "    batch_size,\n",
    "    model_save_root,\n",
    "    warmup_percent=0.2,\n",
    "    max_grad_norm=1.0,\n",
    "):\n",
    "\n",
    "    # Create the optimizer\n",
    "    optimizer = torch.optim.Adam(\n",
    "        model.parameters(), lr=learningRate, betas=(0.9, 0.95))\n",
    "\n",
    "    # Create a DataLoader for the training dataset\n",
    "    train_dataloader = DataLoader(\n",
    "        training_dataset,\n",
    "        batch_size=batch_size\n",
    "    )\n",
    "\n",
    "    total_steps = batch_size * epochs  # Total number of training steps\n",
    "    warmup_steps = int(warmup_percent * total_steps)  # Number of warmup steps\n",
    "\n",
    "    scheduler = get_constant_schedule_with_warmup(optimizer, num_warmup_steps=warmup_steps)\n",
    "\n",
    "    model.zero_grad()\n",
    "    best_loss = 100\n",
    "    iteration_count = 0  # Count of iterations\n",
    "\n",
    "    # Train the model\n",
    "    for epoch in range(epochs):\n",
    "\n",
    "        train_loss_accum = 0  # Accumulated training loss for the epoch\n",
    "        epoch_train_step = 0  # Number of training steps in the epoch\n",
    "        model.train()\n",
    "\n",
    "        for batch in tqdm(train_dataloader, desc=\"Training\"):  # Iterate over training batches\n",
    "            optimizer.zero_grad()\n",
    "\n",
    "            epoch_train_step += 1\n",
    "\n",
    "            input_ids, attention_mask, token_type_ids = batch\n",
    "\n",
    "            # Forward pass and compute the loss\n",
    "            loss = model(input_ids, attention_mask, token_type_ids)[0]\n",
    "\n",
    "            loss.backward()  # Backpropagation\n",
    "            torch.nn.utils.clip_grad_norm_(model.parameters(), max_grad_norm)  # Gradient clipping\n",
    "\n",
    "            train_loss_accum += loss.item()  # Accumulate training loss\n",
    "            iteration_count += 1\n",
    "\n",
    "            if iteration_count % 1200 == 0:\n",
    "                print(f\"Loss for batch {iteration_count}: {train_loss_accum / iteration_count}\")\n",
    "\n",
    "            optimizer.step()  # Update model parameters\n",
    "            scheduler.step()  # Update learning rate schedule\n",
    "\n",
    "        epoch_train_loss = train_loss_accum / epoch_train_step  # Average training loss for the epoch\n",
    "\n",
    "        # Perform validation after each epoch\n",
    "        validation_loss = validation(model, validation_dataset, batch_size)\n",
    "\n",
    "        print(\n",
    "            f\"Epoch: {epoch} | Training Loss: {epoch_train_loss:.3f} | Validation Loss: {validation_loss:.3f}\"\n",
    "        )\n",
    "\n",
    "        if validation_loss < best_loss:\n",
    "            # Save the best model, configuration, and tokenizer\n",
    "            model.save_pretrained(model_save_root)\n",
    "            model.config.save_pretrained(model_save_root)\n",
    "            tokenizer.save_pretrained(model_save_root)\n",
    "\n",
    "            best_loss = validation_loss  # Update the best validation loss\n",
    "\n",
    "            print(\"Model Saved!\")\n",
    "\n",
    "        print(\"---------------------------------\")\n"
   ]
  },
  {
   "cell_type": "markdown",
   "id": "87a5ddc8",
   "metadata": {
    "id": "87a5ddc8"
   },
   "source": [
    "### Validation Loop"
   ]
  },
  {
   "cell_type": "code",
   "execution_count": null,
   "id": "fda32965",
   "metadata": {
    "id": "fda32965"
   },
   "outputs": [],
   "source": [
    "\n",
    "def validation(model, validation_dataset, batch_size):\n",
    "    # Create a DataLoader to iterate through the validation dataset in batches\n",
    "    eval_dataloader = DataLoader(\n",
    "        validation_dataset,\n",
    "        batch_size=batch_size\n",
    "    )\n",
    "\n",
    "    eval_loss_accum = 0  # Accumulator for the evaluation loss\n",
    "    eval_step = 0  # Counter for the number of evaluation steps\n",
    "\n",
    "    model.zero_grad()\n",
    "    model.eval()  # Put the model in evaluation mode\n",
    "\n",
    "    # Iterate through the validation dataset\n",
    "    for batch in tqdm(eval_dataloader, desc=\"Validation\"):\n",
    "        with torch.no_grad():\n",
    "\n",
    "          # Unpack the batch into input_ids, attention_mask, and token_type_ids\n",
    "          input_ids, attention_mask, token_type_ids = batch\n",
    "\n",
    "          # Compute the model's output for the given inputs\n",
    "          loss = model(input_ids, attention_mask, token_type_ids)[0]\n",
    "\n",
    "          # Accumulate the loss\n",
    "          eval_loss_accum += loss.item()\n",
    "          eval_step += 1\n",
    "\n",
    "    validation_loss = eval_loss_accum / eval_step\n",
    "\n",
    "    return validation_loss\n"
   ]
  },
  {
   "cell_type": "markdown",
   "id": "ml215tZzeW__",
   "metadata": {
    "id": "ml215tZzeW__"
   },
   "source": [
    "Fine-tune the custom model"
   ]
  },
  {
   "cell_type": "code",
   "execution_count": null,
   "id": "00332b43",
   "metadata": {
    "id": "00332b43"
   },
   "outputs": [],
   "source": [
    "\n",
    "# Define the configuration for the fine-tuned GPT-2 model\n",
    "config = GPT2_Fine_Tuned_Model_Config()\n",
    "\n",
    "# Create an instance of the fine-tuned GPT-2 model and move it to the appropriate device\n",
    "model = GPT2_Fine_Tuned_Model(config).to(DEVICE)\n",
    "\n",
    "learningRate = 5e-5\n",
    "model_save_root = 'fine_tuned_gpt2'\n",
    "warmup_percent = 0.2\n",
    "max_grad_norm = 1.0\n",
    "epochs = 1\n",
    "batch_size = 1\n",
    "\n",
    "# Call the training function to train the fine-tuned GPT-2 model\n",
    "train_fine_tuned_model_gpt(\n",
    "    model,\n",
    "    training_dataset,\n",
    "    validation_dataset,\n",
    "    epochs,\n",
    "    learningRate,\n",
    "    batch_size,\n",
    "    model_save_root,\n",
    "    warmup_percent,\n",
    "    max_grad_norm,\n",
    ")\n"
   ]
  },
  {
   "cell_type": "markdown",
   "id": "svVLxdqaeSV_",
   "metadata": {
    "id": "svVLxdqaeSV_"
   },
   "source": [
    "Second approach (without the custom model)"
   ]
  },
  {
   "cell_type": "code",
   "execution_count": null,
   "id": "LGyJnM5Gdy5x",
   "metadata": {
    "colab": {
     "base_uri": "https://localhost:8080/"
    },
    "id": "LGyJnM5Gdy5x",
    "outputId": "1294af7d-b97d-4dc3-8bba-7d530dbf704b"
   },
   "outputs": [
    {
     "name": "stderr",
     "output_type": "stream",
     "text": [
      "Training: 100%|██████████| 5841/5841 [38:05<00:00,  2.56it/s]\n",
      "Validation: 100%|██████████| 682/682 [01:19<00:00,  8.56it/s]"
     ]
    },
    {
     "name": "stdout",
     "output_type": "stream",
     "text": [
      "Epoch: 0 | Training Loss: 0.795 | Validation Loss: 0.721\n"
     ]
    },
    {
     "name": "stderr",
     "output_type": "stream",
     "text": [
      "\n"
     ]
    }
   ],
   "source": [
    "\n",
    "# Define the configuration for the fine-tuned GPT-2 model\n",
    "#config = GPT2_Fine_Tuned_Model_Config()\n",
    "\n",
    "# Create an instance of the fine-tuned GPT-2 model and move it to the appropriate device\n",
    "#model = GPT2_Fine_Tuned_Model(config).to(DEVICE)\n",
    "\n",
    "model_name = \"gpt2\"\n",
    "model = GPT2LMHeadModel.from_pretrained(model_name).to(DEVICE)\n",
    "model.config.pad_token_id =  model.config.eos_token_id\n",
    "\n",
    "# Use the GPT2 tokenizer for encoding and decoding\n",
    "tokenizer = GPT2Tokenizer.from_pretrained(model_name)\n",
    "\n",
    "learningRate = 5e-5\n",
    "model_save_root = 'fine_tuned_gpt2'\n",
    "warmup_percent = 0.2\n",
    "max_grad_norm = 1.0\n",
    "epochs = 1\n",
    "batch_size = 1\n",
    "\n",
    "# Call the training function to train the fine-tuned GPT-2 model\n",
    "train_fine_tuned_model_gpt(\n",
    "    model,\n",
    "    tokenizer,\n",
    "    training_dataset,\n",
    "    validation_dataset,\n",
    "    epochs,\n",
    "    learningRate,\n",
    "    batch_size,\n",
    "    model_save_root,\n",
    "    warmup_percent,\n",
    "    max_grad_norm,\n",
    ")\n"
   ]
  }
 ],
 "metadata": {
  "accelerator": "GPU",
  "colab": {
   "gpuType": "T4",
   "provenance": []
  },
  "kernelspec": {
   "display_name": "Python 3 (ipykernel)",
   "language": "python",
   "name": "python3"
  },
  "language_info": {
   "codemirror_mode": {
    "name": "ipython",
    "version": 3
   },
   "file_extension": ".py",
   "mimetype": "text/x-python",
   "name": "python",
   "nbconvert_exporter": "python",
   "pygments_lexer": "ipython3",
   "version": "3.9.12"
  }
 },
 "nbformat": 4,
 "nbformat_minor": 5
}
